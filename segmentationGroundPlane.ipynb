{
 "cells": [
  {
   "cell_type": "markdown",
   "id": "8e611609",
   "metadata": {},
   "source": [
    "<h1>Segmentation of Ground Plane</h1>"
   ]
  },
  {
   "cell_type": "markdown",
   "id": "85006156",
   "metadata": {},
   "source": [
    "In this notebook, we apply different ground filtering algorithms namely\n",
    "1) SMRF \n",
    "2) PMF \n",
    "3) CSF \n",
    "\n",
    "With these ground filtered point cloud dataset, we proceed with our further analysis on detecting holes and classifying the vehicles."
   ]
  },
  {
   "cell_type": "code",
   "execution_count": 19,
   "id": "d85a09eb-d5f5-439c-b305-c367afecf2a9",
   "metadata": {},
   "outputs": [],
   "source": [
    "import pdal"
   ]
  },
  {
   "cell_type": "markdown",
   "id": "ab410257",
   "metadata": {},
   "source": [
    "We load the point cloud data file ('.las' format) into the PDAL pipeline for filtering and other processes."
   ]
  },
  {
   "cell_type": "code",
   "execution_count": 6,
   "id": "8a4d5197-8077-4aa6-8281-bd521b85e316",
   "metadata": {},
   "outputs": [],
   "source": [
    "# Loading the laz file\n",
    "trial_json = \"\"\" { \"pipeline\": [\"sunset pk g lot smalldata.las\"] } \"\"\""
   ]
  },
  {
   "cell_type": "code",
   "execution_count": 7,
   "id": "df86e178-5ea2-4f88-979a-d4d4b77d9a5b",
   "metadata": {},
   "outputs": [],
   "source": [
    "pipeline = pdal.Pipeline(trial_json)"
   ]
  },
  {
   "cell_type": "code",
   "execution_count": 8,
   "id": "ca035cc3-3438-45d2-8f84-dad1985b0cc0",
   "metadata": {},
   "outputs": [],
   "source": [
    "# Applying the SMRF transformation to classify the ground plane\n",
    "pipeline |= pdal.Filter(type=\"filters.smrf\", scalar=0.2, slope=0.2, threshold=0.0, window=16.0) \n",
    "pipeline |= pdal.Filter(type=\"filters.range\", limits=\"Classification[2:2]\")"
   ]
  },
  {
   "cell_type": "code",
   "execution_count": 9,
   "id": "2f880c72-13ca-4213-b115-b039b9f013c1",
   "metadata": {},
   "outputs": [
    {
     "data": {
      "text/plain": [
       "39687"
      ]
     },
     "execution_count": 9,
     "metadata": {},
     "output_type": "execute_result"
    }
   ],
   "source": [
    "# After the execution, we see the number of points that are filtered as part of the process\n",
    "pipeline.execute()"
   ]
  },
  {
   "cell_type": "code",
   "execution_count": 10,
   "id": "cfb51ce0-02ca-47ed-9a9e-8e62f5041415",
   "metadata": {},
   "outputs": [
    {
     "data": {
      "text/plain": [
       "39687"
      ]
     },
     "execution_count": 10,
     "metadata": {},
     "output_type": "execute_result"
    }
   ],
   "source": [
    "# Writing the filtered points into a new point cloud dataset (\"SMRF_Filtering_Output.laz\")\n",
    "a = pipeline.arrays\n",
    "pipeline = pdal.Writer.las(filename=\"SMRF_Filtering_Output.laz\").pipeline(a[0])\n",
    "pipeline.execute()"
   ]
  },
  {
   "cell_type": "code",
   "execution_count": 11,
   "id": "96f96755-21e6-4e31-ae69-e67680a9b466",
   "metadata": {},
   "outputs": [],
   "source": [
    "# Applying PMF transformation to classify the ground plane\n",
    "pipeline_pmf = pdal.Pipeline(trial_json)\n",
    "pipeline_pmf |= pdal.Filter(type=\"filters.pmf\", slope=0.2)\n",
    "pipeline_pmf |= pdal.Filter(type=\"filters.range\", limits=\"Classification[2:2]\")"
   ]
  },
  {
   "cell_type": "code",
   "execution_count": 13,
   "id": "4931d039-24ae-4941-aa96-ab3fd0fc97b8",
   "metadata": {},
   "outputs": [
    {
     "data": {
      "text/plain": [
       "862746"
      ]
     },
     "execution_count": 13,
     "metadata": {},
     "output_type": "execute_result"
    }
   ],
   "source": [
    "# After the execution, we see the number of points that are filtered as part of the process\n",
    "pipeline_pmf.execute()"
   ]
  },
  {
   "cell_type": "code",
   "execution_count": 14,
   "id": "0402bd8a-c241-4ab0-a1d0-fcb8703f6243",
   "metadata": {},
   "outputs": [
    {
     "data": {
      "text/plain": [
       "862746"
      ]
     },
     "execution_count": 14,
     "metadata": {},
     "output_type": "execute_result"
    }
   ],
   "source": [
    "# Writing the filtered points into a new point cloud dataset (\"PMF_Filtering_Output.laz\")\n",
    "a_temp = pipeline_pmf.arrays\n",
    "pipeline_pmf = pdal.Writer.las(filename=\"PMF_Filtering_Output.laz\").pipeline(a_temp[0])\n",
    "pipeline_pmf.execute()"
   ]
  },
  {
   "cell_type": "code",
   "execution_count": 15,
   "id": "440a2206-3224-47de-9454-b90d75c7bbce",
   "metadata": {},
   "outputs": [],
   "source": [
    "# Applying CSF transformation to classify the ground plane\n",
    "pipeline_csf = pdal.Pipeline(trial_json)\n",
    "pipeline_csf |= pdal.Filter(type=\"filters.csf\")\n",
    "pipeline_csf |= pdal.Filter(type=\"filters.range\", limits=\"Classification[2:2]\")"
   ]
  },
  {
   "cell_type": "code",
   "execution_count": 17,
   "id": "bc4f65bc",
   "metadata": {},
   "outputs": [
    {
     "data": {
      "text/plain": [
       "1047325"
      ]
     },
     "execution_count": 17,
     "metadata": {},
     "output_type": "execute_result"
    }
   ],
   "source": [
    "# After the execution, we see the number of points that are filtered as part of the process\n",
    "pipeline_csf.execute()"
   ]
  },
  {
   "cell_type": "code",
   "execution_count": 18,
   "id": "671928fe",
   "metadata": {},
   "outputs": [
    {
     "data": {
      "text/plain": [
       "1047325"
      ]
     },
     "execution_count": 18,
     "metadata": {},
     "output_type": "execute_result"
    }
   ],
   "source": [
    "# Writing the filtered points into a new point cloud dataset (\"CSF_Filtering_Output.laz\")\n",
    "a_temp_csf = pipeline_csf.arrays\n",
    "pipeline_csf = pdal.Writer.las(filename=\"CSF_Filtering_Output.laz\").pipeline(a_temp_csf[0])\n",
    "pipeline_csf.execute()"
   ]
  },
  {
   "cell_type": "markdown",
   "id": "f0bdc19c",
   "metadata": {},
   "source": [
    "Based on our analysis of the output point cloud datasets, we found CSF algorithm to be the most suited and would be proceeding with that particular point cloud data for our next phase of analysis"
   ]
  }
 ],
 "metadata": {
  "kernelspec": {
   "display_name": "Python 3 (ipykernel)",
   "language": "python",
   "name": "python3"
  }
 },
 "nbformat": 4,
 "nbformat_minor": 5
}
