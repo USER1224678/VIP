{
 "cells": [
  {
   "cell_type": "code",
   "execution_count": 26,
   "id": "d85a09eb-d5f5-439c-b305-c367afecf2a9",
   "metadata": {},
   "outputs": [],
   "source": [
    "import pdal"
   ]
  },
  {
   "cell_type": "code",
   "execution_count": 27,
   "id": "8a4d5197-8077-4aa6-8281-bd521b85e316",
   "metadata": {},
   "outputs": [],
   "source": [
    "# Loading the laz file.\n",
    "\n",
    "trial_json = \"\"\" { \"pipeline\": [\"20140326_18TWL850045_epsg2263.laz\"] } \"\"\""
   ]
  },
  {
   "cell_type": "code",
   "execution_count": 28,
   "id": "df86e178-5ea2-4f88-979a-d4d4b77d9a5b",
   "metadata": {},
   "outputs": [],
   "source": [
    "pipeline = pdal.Pipeline(trial_json)"
   ]
  },
  {
   "cell_type": "code",
   "execution_count": 29,
   "id": "ca035cc3-3438-45d2-8f84-dad1985b0cc0",
   "metadata": {},
   "outputs": [],
   "source": [
    "pipeline |= pdal.Filter(type=\"filters.smrf\", scalar=0.2, slope=0.2, threshold=0.0, window=16.0) \n",
    "pipeline |= pdal.Filter(type=\"filters.range\", limits=\"Classification[2:2]\")"
   ]
  },
  {
   "cell_type": "code",
   "execution_count": 30,
   "id": "2f880c72-13ca-4213-b115-b039b9f013c1",
   "metadata": {},
   "outputs": [
    {
     "data": {
      "text/plain": [
       "8567587"
      ]
     },
     "execution_count": 30,
     "metadata": {},
     "output_type": "execute_result"
    }
   ],
   "source": [
    "pipeline.execute()"
   ]
  },
  {
   "cell_type": "code",
   "execution_count": 31,
   "id": "cfb51ce0-02ca-47ed-9a9e-8e62f5041415",
   "metadata": {},
   "outputs": [
    {
     "data": {
      "text/plain": [
       "8567587"
      ]
     },
     "execution_count": 31,
     "metadata": {},
     "output_type": "execute_result"
    }
   ],
   "source": [
    "# Writing the output file.\n",
    "a = pipeline.arrays\n",
    "pipeline = pdal.Writer.las(filename=\"SMRF_Filtering_Output.laz\").pipeline(a[0])\n",
    "pipeline.execute()"
   ]
  },
  {
   "cell_type": "code",
   "execution_count": 32,
   "id": "96f96755-21e6-4e31-ae69-e67680a9b466",
   "metadata": {},
   "outputs": [],
   "source": [
    "# Applying PMF transformation to classify the ground plane.\n",
    "pipeline_pmf = pdal.Pipeline(trial_json)\n",
    "pipeline_pmf |= pdal.Filter(type=\"filters.pmf\", slope=0.2)\n",
    "pipeline_pmf |= pdal.Filter(type=\"filters.range\", limits=\"Classification[2:2]\")"
   ]
  },
  {
   "cell_type": "code",
   "execution_count": 33,
   "id": "4931d039-24ae-4941-aa96-ab3fd0fc97b8",
   "metadata": {},
   "outputs": [
    {
     "data": {
      "text/plain": [
       "8949886"
      ]
     },
     "execution_count": 33,
     "metadata": {},
     "output_type": "execute_result"
    }
   ],
   "source": [
    "pipeline_pmf.execute()"
   ]
  },
  {
   "cell_type": "code",
   "execution_count": 35,
   "id": "0402bd8a-c241-4ab0-a1d0-fcb8703f6243",
   "metadata": {},
   "outputs": [
    {
     "data": {
      "text/plain": [
       "8949886"
      ]
     },
     "execution_count": 35,
     "metadata": {},
     "output_type": "execute_result"
    }
   ],
   "source": [
    "# Writing the output file for PMF transformation\n",
    "a_temp = pipeline_pmf.arrays\n",
    "pipeline_pmf = pdal.Writer.las(filename=\"PMF_Filtering_Output.laz\").pipeline(a_temp[0])\n",
    "pipeline_pmf.execute()"
   ]
  },
  {
   "cell_type": "code",
   "execution_count": null,
   "id": "440a2206-3224-47de-9454-b90d75c7bbce",
   "metadata": {},
   "outputs": [],
   "source": []
  }
 ],
 "metadata": {
  "kernelspec": {
   "display_name": "Python 3 (ipykernel)",
   "language": "python",
   "name": "python3"
  },
  "language_info": {
   "codemirror_mode": {
    "name": "ipython",
    "version": 3
   },
   "file_extension": ".py",
   "mimetype": "text/x-python",
   "name": "python",
   "nbconvert_exporter": "python",
   "pygments_lexer": "ipython3",
   "version": "3.11.5"
  }
 },
 "nbformat": 4,
 "nbformat_minor": 5
}
